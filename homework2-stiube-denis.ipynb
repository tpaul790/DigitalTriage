{
 "cells": [
  {
   "metadata": {},
   "cell_type": "markdown",
   "source": "# Algoritm inteligent + small data",
   "id": "c5b442bef7e58a56"
  },
  {
   "metadata": {},
   "cell_type": "markdown",
   "source": [
    "### 1. Descriere EDA a datelor:\n",
    "- Continut:<br>\n",
    "Dataset-ul contine **4920** de exemple, unde fiecare input are **17** atribute (*Simptom_1, Simptom_2, ..., Simpotom_17*)<br>\n",
    "Dataset-ul are ca scop corelarea unor simptome cu un **diagnostic** (variabila tinta). Atributele sunt de tip string, reprezentand un simptom asociat diagnosticului din linia respectiva\n",
    "\n",
    "- Analiza statistica:<br>\n",
    "Dataset-ul cuprinde 41 de diagnostice unice si 131 de simptome distincte. Dataset-ul este echilibrat, avand pentru fiecare diagnostic 120 de exemple.<br>\n",
    "Analizand mai atent setul de date, am observat ca multe dintre perechile (colectie_simptome - diagnostic) sunt duplicate. Daca nu modific in niciun fel setul de date, atunci exista riscul ca procesul de testare al modelului dupa antrenare sa fie sabotat - exista sansa ca multe dintre exemplele din train set sa apara si in test set (**data leakage**), ceea ce ar duce la o valoare a acuratetii irelevanta (am testat pastrand duplicatele si am obtinut o acuratete de **100%**, evident nerealista)"
   ],
   "id": "159aa4881cba12d0"
  },
  {
   "cell_type": "code",
   "id": "initial_id",
   "metadata": {
    "collapsed": true,
    "ExecuteTime": {
     "end_time": "2025-10-29T09:59:17.152623Z",
     "start_time": "2025-10-29T09:59:16.971344Z"
    }
   },
   "source": [
    "import pandas as pd\n",
    "\n",
    "df = pd.read_csv('data/DiseaseAndSymptoms.csv')\n",
    "\n",
    "# Transformarea dataset-ului in perechi de tipul (lista_simptome - diagnostic)\n",
    "\n",
    "symptom_cols = [col for col in df.columns if col.startswith(\"Symptom_\")]\n",
    "df[\"lista_simptome\"] = df[symptom_cols].apply(lambda x: [s.strip() for s in x.dropna().astype(str) if s.strip() != ''], axis=1)\n",
    "\n",
    "print(df[[\"Disease\", \"lista_simptome\"]].head())\n",
    "print()\n",
    "\n",
    "# determinare simptome unice\n",
    "\n",
    "all_symptoms = [s for lista in df['lista_simptome'] for s in lista if isinstance(lista, list)]\n",
    "unique_symptoms = set(all_symptoms)\n",
    "\n",
    "print(f'{len(unique_symptoms)} unique symptoms')"
   ],
   "outputs": [
    {
     "name": "stdout",
     "output_type": "stream",
     "text": [
      "            Disease                                     lista_simptome\n",
      "0  Fungal infection  [itching, skin_rash, nodal_skin_eruptions, dis...\n",
      "1  Fungal infection  [skin_rash, nodal_skin_eruptions, dischromic _...\n",
      "2  Fungal infection  [itching, nodal_skin_eruptions, dischromic _pa...\n",
      "3  Fungal infection          [itching, skin_rash, dischromic _patches]\n",
      "4  Fungal infection         [itching, skin_rash, nodal_skin_eruptions]\n",
      "\n",
      "131 unique symptoms\n"
     ]
    }
   ],
   "execution_count": 4
  },
  {
   "metadata": {},
   "cell_type": "markdown",
   "source": [
    "#### Preprocesare date:\n",
    "- voi elimina toate liniile duplicate (pentru a masura capacitatea de generalizare a modelului);\n",
    "- pentru fiecare diagnostic, voi asocia un vector binar care sa ilustreze corelatia dintre un diagnostic, respectiv un simptom (1, daca simptomul este prezent, 0 altfel)\n",
    "- voi codifica fiecare diagnostic cu un intreg"
   ],
   "id": "4027c6a802ca36f3"
  },
  {
   "metadata": {
    "ExecuteTime": {
     "end_time": "2025-10-29T10:43:42.064573Z",
     "start_time": "2025-10-29T10:43:41.999242Z"
    }
   },
   "cell_type": "code",
   "source": [
    "from sklearn.preprocessing import MultiLabelBinarizer\n",
    "\n",
    "# eliminare duplicate\n",
    "\n",
    "df['tuple_simptome'] = df['lista_simptome'].apply(lambda x: tuple(sorted(x)))\n",
    "df_unique = df.drop_duplicates(subset=['Disease', 'tuple_simptome'])\n",
    "\n",
    "print(df_unique.shape)\n",
    "print(df_unique.head())\n",
    "\n",
    "# one-hot encoding pentru simptome\n",
    "\n",
    "mlb = MultiLabelBinarizer()\n",
    "X = mlb.fit_transform(df_unique['tuple_simptome'])"
   ],
   "id": "78e309d3dda538ce",
   "outputs": [
    {
     "ename": "KeyError",
     "evalue": "'lista_simptome'",
     "output_type": "error",
     "traceback": [
      "\u001B[31m---------------------------------------------------------------------------\u001B[39m",
      "\u001B[31mKeyError\u001B[39m                                  Traceback (most recent call last)",
      "\u001B[36mFile \u001B[39m\u001B[32m~/PyCharmMiscProject/.venv/lib/python3.11/site-packages/pandas/core/indexes/base.py:3805\u001B[39m, in \u001B[36mIndex.get_loc\u001B[39m\u001B[34m(self, key)\u001B[39m\n\u001B[32m   3804\u001B[39m \u001B[38;5;28;01mtry\u001B[39;00m:\n\u001B[32m-> \u001B[39m\u001B[32m3805\u001B[39m     \u001B[38;5;28;01mreturn\u001B[39;00m \u001B[38;5;28;43mself\u001B[39;49m\u001B[43m.\u001B[49m\u001B[43m_engine\u001B[49m\u001B[43m.\u001B[49m\u001B[43mget_loc\u001B[49m\u001B[43m(\u001B[49m\u001B[43mcasted_key\u001B[49m\u001B[43m)\u001B[49m\n\u001B[32m   3806\u001B[39m \u001B[38;5;28;01mexcept\u001B[39;00m \u001B[38;5;167;01mKeyError\u001B[39;00m \u001B[38;5;28;01mas\u001B[39;00m err:\n",
      "\u001B[36mFile \u001B[39m\u001B[32mindex.pyx:167\u001B[39m, in \u001B[36mpandas._libs.index.IndexEngine.get_loc\u001B[39m\u001B[34m()\u001B[39m\n",
      "\u001B[36mFile \u001B[39m\u001B[32mindex.pyx:196\u001B[39m, in \u001B[36mpandas._libs.index.IndexEngine.get_loc\u001B[39m\u001B[34m()\u001B[39m\n",
      "\u001B[36mFile \u001B[39m\u001B[32mpandas/_libs/hashtable_class_helper.pxi:7081\u001B[39m, in \u001B[36mpandas._libs.hashtable.PyObjectHashTable.get_item\u001B[39m\u001B[34m()\u001B[39m\n",
      "\u001B[36mFile \u001B[39m\u001B[32mpandas/_libs/hashtable_class_helper.pxi:7089\u001B[39m, in \u001B[36mpandas._libs.hashtable.PyObjectHashTable.get_item\u001B[39m\u001B[34m()\u001B[39m\n",
      "\u001B[31mKeyError\u001B[39m: 'lista_simptome'",
      "\nThe above exception was the direct cause of the following exception:\n",
      "\u001B[31mKeyError\u001B[39m                                  Traceback (most recent call last)",
      "\u001B[36mCell\u001B[39m\u001B[36m \u001B[39m\u001B[32mIn[8]\u001B[39m\u001B[32m, line 5\u001B[39m\n\u001B[32m      1\u001B[39m \u001B[38;5;28;01mfrom\u001B[39;00m\u001B[38;5;250m \u001B[39m\u001B[34;01msklearn\u001B[39;00m\u001B[34;01m.\u001B[39;00m\u001B[34;01mpreprocessing\u001B[39;00m\u001B[38;5;250m \u001B[39m\u001B[38;5;28;01mimport\u001B[39;00m MultiLabelBinarizer\n\u001B[32m      3\u001B[39m \u001B[38;5;66;03m# eliminare duplicate\u001B[39;00m\n\u001B[32m----> \u001B[39m\u001B[32m5\u001B[39m df[\u001B[33m'\u001B[39m\u001B[33mtuple_simptome\u001B[39m\u001B[33m'\u001B[39m] = \u001B[43mdf\u001B[49m\u001B[43m[\u001B[49m\u001B[33;43m'\u001B[39;49m\u001B[33;43mlista_simptome\u001B[39;49m\u001B[33;43m'\u001B[39;49m\u001B[43m]\u001B[49m.apply(\u001B[38;5;28;01mlambda\u001B[39;00m x: \u001B[38;5;28mtuple\u001B[39m(\u001B[38;5;28msorted\u001B[39m(x)))\n\u001B[32m      6\u001B[39m df_unique = df.drop_duplicates(subset=[\u001B[33m'\u001B[39m\u001B[33mDisease\u001B[39m\u001B[33m'\u001B[39m, \u001B[33m'\u001B[39m\u001B[33mtuple_simptome\u001B[39m\u001B[33m'\u001B[39m])\n\u001B[32m      8\u001B[39m \u001B[38;5;28mprint\u001B[39m(df_unique.shape)\n",
      "\u001B[36mFile \u001B[39m\u001B[32m~/PyCharmMiscProject/.venv/lib/python3.11/site-packages/pandas/core/frame.py:4102\u001B[39m, in \u001B[36mDataFrame.__getitem__\u001B[39m\u001B[34m(self, key)\u001B[39m\n\u001B[32m   4100\u001B[39m \u001B[38;5;28;01mif\u001B[39;00m \u001B[38;5;28mself\u001B[39m.columns.nlevels > \u001B[32m1\u001B[39m:\n\u001B[32m   4101\u001B[39m     \u001B[38;5;28;01mreturn\u001B[39;00m \u001B[38;5;28mself\u001B[39m._getitem_multilevel(key)\n\u001B[32m-> \u001B[39m\u001B[32m4102\u001B[39m indexer = \u001B[38;5;28;43mself\u001B[39;49m\u001B[43m.\u001B[49m\u001B[43mcolumns\u001B[49m\u001B[43m.\u001B[49m\u001B[43mget_loc\u001B[49m\u001B[43m(\u001B[49m\u001B[43mkey\u001B[49m\u001B[43m)\u001B[49m\n\u001B[32m   4103\u001B[39m \u001B[38;5;28;01mif\u001B[39;00m is_integer(indexer):\n\u001B[32m   4104\u001B[39m     indexer = [indexer]\n",
      "\u001B[36mFile \u001B[39m\u001B[32m~/PyCharmMiscProject/.venv/lib/python3.11/site-packages/pandas/core/indexes/base.py:3812\u001B[39m, in \u001B[36mIndex.get_loc\u001B[39m\u001B[34m(self, key)\u001B[39m\n\u001B[32m   3807\u001B[39m     \u001B[38;5;28;01mif\u001B[39;00m \u001B[38;5;28misinstance\u001B[39m(casted_key, \u001B[38;5;28mslice\u001B[39m) \u001B[38;5;129;01mor\u001B[39;00m (\n\u001B[32m   3808\u001B[39m         \u001B[38;5;28misinstance\u001B[39m(casted_key, abc.Iterable)\n\u001B[32m   3809\u001B[39m         \u001B[38;5;129;01mand\u001B[39;00m \u001B[38;5;28many\u001B[39m(\u001B[38;5;28misinstance\u001B[39m(x, \u001B[38;5;28mslice\u001B[39m) \u001B[38;5;28;01mfor\u001B[39;00m x \u001B[38;5;129;01min\u001B[39;00m casted_key)\n\u001B[32m   3810\u001B[39m     ):\n\u001B[32m   3811\u001B[39m         \u001B[38;5;28;01mraise\u001B[39;00m InvalidIndexError(key)\n\u001B[32m-> \u001B[39m\u001B[32m3812\u001B[39m     \u001B[38;5;28;01mraise\u001B[39;00m \u001B[38;5;167;01mKeyError\u001B[39;00m(key) \u001B[38;5;28;01mfrom\u001B[39;00m\u001B[38;5;250m \u001B[39m\u001B[34;01merr\u001B[39;00m\n\u001B[32m   3813\u001B[39m \u001B[38;5;28;01mexcept\u001B[39;00m \u001B[38;5;167;01mTypeError\u001B[39;00m:\n\u001B[32m   3814\u001B[39m     \u001B[38;5;66;03m# If we have a listlike key, _check_indexing_error will raise\u001B[39;00m\n\u001B[32m   3815\u001B[39m     \u001B[38;5;66;03m#  InvalidIndexError. Otherwise we fall through and re-raise\u001B[39;00m\n\u001B[32m   3816\u001B[39m     \u001B[38;5;66;03m#  the TypeError.\u001B[39;00m\n\u001B[32m   3817\u001B[39m     \u001B[38;5;28mself\u001B[39m._check_indexing_error(key)\n",
      "\u001B[31mKeyError\u001B[39m: 'lista_simptome'"
     ]
    }
   ],
   "execution_count": 8
  }
 ],
 "metadata": {
  "kernelspec": {
   "display_name": "Python 3",
   "language": "python",
   "name": "python3"
  },
  "language_info": {
   "codemirror_mode": {
    "name": "ipython",
    "version": 2
   },
   "file_extension": ".py",
   "mimetype": "text/x-python",
   "name": "python",
   "nbconvert_exporter": "python",
   "pygments_lexer": "ipython2",
   "version": "2.7.6"
  }
 },
 "nbformat": 4,
 "nbformat_minor": 5
}
