{
 "cells": [
  {
   "metadata": {},
   "cell_type": "markdown",
   "source": "# Algoritm inteligent + small data",
   "id": "c5b442bef7e58a56"
  },
  {
   "metadata": {},
   "cell_type": "markdown",
   "source": [
    "### 1. Descriere EDA a datelor:\n",
    "- Continut:<br>\n",
    "Dataset-ul contine **4920** de exemple, unde fiecare input are **17** atribute (*Simptom_1, Simptom_2, ..., Simpotom_17*)<br>\n",
    "Dataset-ul are ca scop corelarea unor simptome cu un **diagnostic** (variabila tinta). Atributele sunt de tip string, reprezentand un simptom asociat diagnosticului din linia respectiva\n",
    "\n",
    "- Analiza statistica:<br>\n",
    "Dataset-ul cuprinde 41 de diagnostice unice si 131 de simptome distincte. Dataset-ul este echilibrat, avand pentru fiecare diagnostic 120 de exemple.<br>\n",
    "Analizand mai atent setul de date, am observat ca multe dintre perechile (colectie_simptome - diagnostic) sunt duplicate. Daca nu modific in niciun fel setul de date, atunci exista riscul ca procesul de testare al modelului dupa antrenare sa fie sabotat - exista sansa ca multe dintre exemplele din train set sa apara si in test set (**data leakage**), ceea ce ar duce la o valoare a acuratetii irelevanta (am testat pastrand duplicatele si am obtinut o acuratete de **100%**, evident nerealista)"
   ],
   "id": "159aa4881cba12d0"
  },
  {
   "cell_type": "code",
   "id": "initial_id",
   "metadata": {
    "collapsed": true,
    "ExecuteTime": {
     "end_time": "2025-10-29T18:27:01.409345Z",
     "start_time": "2025-10-29T18:27:01.223851Z"
    }
   },
   "source": [
    "import pandas as pd\n",
    "\n",
    "df = pd.read_csv('data/DiseaseAndSymptoms.csv')\n",
    "\n",
    "# Transformarea dataset-ului in perechi de tipul (lista_simptome - diagnostic)\n",
    "\n",
    "symptom_cols = [col for col in df.columns if col.startswith(\"Symptom_\")]\n",
    "df[\"lista_simptome\"] = df[symptom_cols].apply(lambda x: [s.strip() for s in x.dropna().astype(str) if s.strip() != ''], axis=1)\n",
    "df.drop(columns=symptom_cols, inplace=True)\n",
    "\n",
    "print(df.head())\n",
    "print()\n",
    "\n",
    "# determinare simptome unice\n",
    "\n",
    "all_symptoms = [s for lista in df['lista_simptome'] for s in lista if isinstance(lista, list)]\n",
    "unique_symptoms = set(all_symptoms)\n",
    "\n",
    "print(f'{len(unique_symptoms)} unique symptoms')"
   ],
   "outputs": [
    {
     "name": "stdout",
     "output_type": "stream",
     "text": [
      "            Disease                                     lista_simptome\n",
      "0  Fungal infection  [itching, skin_rash, nodal_skin_eruptions, dis...\n",
      "1  Fungal infection  [skin_rash, nodal_skin_eruptions, dischromic _...\n",
      "2  Fungal infection  [itching, nodal_skin_eruptions, dischromic _pa...\n",
      "3  Fungal infection          [itching, skin_rash, dischromic _patches]\n",
      "4  Fungal infection         [itching, skin_rash, nodal_skin_eruptions]\n",
      "\n",
      "131 unique symptoms\n"
     ]
    }
   ],
   "execution_count": 7
  },
  {
   "metadata": {},
   "cell_type": "markdown",
   "source": [
    "#### Preprocesare date:\n",
    "- voi elimina toate liniile duplicate (pentru a masura capacitatea de generalizare a modelului);\n",
    "- pentru fiecare diagnostic, voi asocia un vector binar care sa ilustreze corelatia dintre un diagnostic, respectiv un simptom (1, daca simptomul este prezent, 0 altfel)\n",
    "- voi codifica fiecare diagnostic cu un intreg"
   ],
   "id": "4027c6a802ca36f3"
  },
  {
   "metadata": {
    "ExecuteTime": {
     "end_time": "2025-10-29T18:31:39.265934Z",
     "start_time": "2025-10-29T18:31:39.255605Z"
    }
   },
   "cell_type": "code",
   "source": [
    "from sklearn.preprocessing import MultiLabelBinarizer\n",
    "\n",
    "# eliminare duplicate\n",
    "\n",
    "df['tuple_simptome'] = df['lista_simptome'].apply(lambda x: tuple(sorted(x)))\n",
    "df = df.drop_duplicates(subset=['Disease', 'tuple_simptome']).reset_index(drop=True)\n",
    "df = df.drop(columns=['tuple_simptome'])\n",
    "\n",
    "print(df.shape)\n",
    "print(df.head())\n",
    "\n",
    "# one-hot encoding pentru simptome\n",
    "\n",
    "mlb = MultiLabelBinarizer()\n",
    "X = mlb.fit_transform(df['lista_simptome'])\n",
    "df_aux = pd.DataFrame(X, columns=mlb.classes_)\n",
    "df_aux['Disease'] = df['Disease'].values\n",
    "df = df_aux\n",
    "\n",
    "print(df.head())\n",
    "print()"
   ],
   "id": "78e309d3dda538ce",
   "outputs": [
    {
     "name": "stdout",
     "output_type": "stream",
     "text": [
      "(304, 2)\n",
      "            Disease                                     lista_simptome\n",
      "0  Fungal infection  [itching, skin_rash, nodal_skin_eruptions, dis...\n",
      "1  Fungal infection  [skin_rash, nodal_skin_eruptions, dischromic _...\n",
      "2  Fungal infection  [itching, nodal_skin_eruptions, dischromic _pa...\n",
      "3  Fungal infection          [itching, skin_rash, dischromic _patches]\n",
      "4  Fungal infection         [itching, skin_rash, nodal_skin_eruptions]\n",
      "   abdominal_pain  abnormal_menstruation  acidity  acute_liver_failure  \\\n",
      "0               0                      0        0                    0   \n",
      "1               0                      0        0                    0   \n",
      "2               0                      0        0                    0   \n",
      "3               0                      0        0                    0   \n",
      "4               0                      0        0                    0   \n",
      "\n",
      "   altered_sensorium  anxiety  back_pain  belly_pain  blackheads  \\\n",
      "0                  0        0          0           0           0   \n",
      "1                  0        0          0           0           0   \n",
      "2                  0        0          0           0           0   \n",
      "3                  0        0          0           0           0   \n",
      "4                  0        0          0           0           0   \n",
      "\n",
      "   bladder_discomfort  ...  watering_from_eyes  weakness_in_limbs  \\\n",
      "0                   0  ...                   0                  0   \n",
      "1                   0  ...                   0                  0   \n",
      "2                   0  ...                   0                  0   \n",
      "3                   0  ...                   0                  0   \n",
      "4                   0  ...                   0                  0   \n",
      "\n",
      "   weakness_of_one_body_side  weight_gain  weight_loss  yellow_crust_ooze  \\\n",
      "0                          0            0            0                  0   \n",
      "1                          0            0            0                  0   \n",
      "2                          0            0            0                  0   \n",
      "3                          0            0            0                  0   \n",
      "4                          0            0            0                  0   \n",
      "\n",
      "   yellow_urine  yellowing_of_eyes  yellowish_skin           Disease  \n",
      "0             0                  0               0  Fungal infection  \n",
      "1             0                  0               0  Fungal infection  \n",
      "2             0                  0               0  Fungal infection  \n",
      "3             0                  0               0  Fungal infection  \n",
      "4             0                  0               0  Fungal infection  \n",
      "\n",
      "[5 rows x 132 columns]\n",
      "\n"
     ]
    }
   ],
   "execution_count": 11
  },
  {
   "metadata": {},
   "cell_type": "markdown",
   "source": [
    "### 2. Antrenare folosind algoritm inteligent\n",
    "\n",
    "Pentru rezolvarea problemei de clasificare, voi folosi libraria **XGBoost**.\n",
    "XGBoost se bazeaza pe **gradient boosting algorithm**.\n",
    "\n",
    "#### Cum functioneaza XGBoost?\n",
    "1. Incepe prin antrenarea unui arbore de decizie pe setul de antrenament.\n",
    "2. Dupa evaluarea erorii obtinute de primul arbore de decizie, construieste un nou arbore care va fi antrenat pe baza erorilor facute de primul, scopul celui de-al dolea fiind sa corecteze erorile facute de primul.\n",
    "3. Acest proces se repeta, fiecare nou arbore de decizie incercand sa corecteze greselile celor de dinaintea lui.\n",
    "4. Predictia finala este reprezentata de suma deciziilor tuturor arborilor.\n",
    "\n",
    "#### Avantajele utilizarii XGBoost:\n",
    "1. XGBoost include diferite tehnici pentru **prevenirea overfitting-ului** (ex: utilizarea regularizarii, prioritizand astfel simplificarea arborilor complecsi)\n",
    "2. Performanta ridicata prin optimizarea utilizarii memoriei prioritizand utilizarea cache-ului de la CPU\n",
    "3. Suporta foarte bine feature-uri binare (cum e in cazul nostru)"
   ],
   "id": "c32ef5e687903002"
  },
  {
   "metadata": {},
   "cell_type": "markdown",
   "source": [
    "#### Descriere metodologie:\n",
    "1. In urma analizei setului de date, am hotarat sa il impart doar in **train set / test set (80% / 20%)**, deoarece este un dataset de dimensiuni mici.\n",
    "2. Pentru o evaluare cat mai realista, voi folosi **cross-validation**, iar ca metrici: **accuracy**, **precision_macro**, **recall_macro**.\n",
    "3. Hiperparametri folositi vor fi:\n",
    "- **n_estimators**: numarul de arbori pe care algoritmul ii va construi\n",
    "- **learning_rate**: viteza cu care converge modelul spre parametri optimi\n",
    "- **max_depth**: adancimea maxima a arborilor de decizie\n",
    "- **subsample**: proporitia de linii pe care va fi antrenat fiecare arbore\n",
    "- **colsample_bytree**: proportia de coloane folosite pentru fiecare arbore"
   ],
   "id": "f8e76de5fff3d81"
  },
  {
   "metadata": {
    "ExecuteTime": {
     "end_time": "2025-10-29T19:09:48.388740Z",
     "start_time": "2025-10-29T19:09:35.437510Z"
    }
   },
   "cell_type": "code",
   "source": [
    "import xgboost as xgb\n",
    "from sklearn.model_selection import cross_validate, StratifiedKFold\n",
    "from sklearn.preprocessing import LabelEncoder\n",
    "\n",
    "le = LabelEncoder()\n",
    "y_encoded = le.fit_transform(df['Disease'])\n",
    "\n",
    "model = xgb.XGBClassifier(\n",
    "    objective='multi:softmax',\n",
    "    num_class=len(mlb.classes_),\n",
    "    n_estimators=100,\n",
    "    learning_rate=0.02,\n",
    "    max_depth=3,\n",
    "    subsample=0.8,\n",
    "    colsample_bytree=0.8,\n",
    "    random_state=42,\n",
    ")\n",
    "\n",
    "kfold = StratifiedKFold(n_splits=5, shuffle=True, random_state=42)\n",
    "scores = cross_validate(\n",
    "    model, X, y_encoded, cv=kfold,\n",
    "    scoring=['accuracy', 'precision_macro', 'recall_macro', 'f1_macro'],\n",
    ")\n",
    "\n",
    "print(f'Accuracy: {scores[\"test_accuracy\"].mean()*100:.3f}%')\n",
    "print(f'Precision: {scores[\"test_precision_macro\"].mean()*100:.3f}%')\n",
    "print(f'Recall: {scores[\"test_recall_macro\"].mean()*100:.3f}%')\n",
    "print(f'F1: {scores[\"test_f1_macro\"].mean()*100:.3f}%')"
   ],
   "id": "8771cbb02d73f8a5",
   "outputs": [
    {
     "name": "stderr",
     "output_type": "stream",
     "text": [
      "/Users/stiubedenis/PyCharmMiscProject/.venv/lib/python3.11/site-packages/sklearn/metrics/_classification.py:1565: UndefinedMetricWarning: Precision is ill-defined and being set to 0.0 in labels with no predicted samples. Use `zero_division` parameter to control this behavior.\n",
      "  _warn_prf(average, modifier, f\"{metric.capitalize()} is\", len(result))\n",
      "/Users/stiubedenis/PyCharmMiscProject/.venv/lib/python3.11/site-packages/sklearn/metrics/_classification.py:1565: UndefinedMetricWarning: Precision is ill-defined and being set to 0.0 in labels with no predicted samples. Use `zero_division` parameter to control this behavior.\n",
      "  _warn_prf(average, modifier, f\"{metric.capitalize()} is\", len(result))\n",
      "/Users/stiubedenis/PyCharmMiscProject/.venv/lib/python3.11/site-packages/sklearn/metrics/_classification.py:1565: UndefinedMetricWarning: Precision is ill-defined and being set to 0.0 in labels with no predicted samples. Use `zero_division` parameter to control this behavior.\n",
      "  _warn_prf(average, modifier, f\"{metric.capitalize()} is\", len(result))\n",
      "/Users/stiubedenis/PyCharmMiscProject/.venv/lib/python3.11/site-packages/sklearn/metrics/_classification.py:1565: UndefinedMetricWarning: Precision is ill-defined and being set to 0.0 in labels with no predicted samples. Use `zero_division` parameter to control this behavior.\n",
      "  _warn_prf(average, modifier, f\"{metric.capitalize()} is\", len(result))\n"
     ]
    },
    {
     "name": "stdout",
     "output_type": "stream",
     "text": [
      "Accuracy: 85.842%\n",
      "Precision: 79.268%\n",
      "Recall: 82.683%\n",
      "F1: 79.515%\n"
     ]
    },
    {
     "name": "stderr",
     "output_type": "stream",
     "text": [
      "/Users/stiubedenis/PyCharmMiscProject/.venv/lib/python3.11/site-packages/sklearn/metrics/_classification.py:1565: UndefinedMetricWarning: Precision is ill-defined and being set to 0.0 in labels with no predicted samples. Use `zero_division` parameter to control this behavior.\n",
      "  _warn_prf(average, modifier, f\"{metric.capitalize()} is\", len(result))\n"
     ]
    }
   ],
   "execution_count": 20
  },
  {
   "metadata": {
    "ExecuteTime": {
     "end_time": "2025-10-29T19:29:40.343502Z",
     "start_time": "2025-10-29T19:29:26.915414Z"
    }
   },
   "cell_type": "code",
   "source": [
    "# afisare exemple prezise corect, respectiv exemple prezise gresit\n",
    "\n",
    "from sklearn.model_selection import cross_val_predict\n",
    "\n",
    "y_prec_cv = cross_val_predict(model, X, y_encoded, cv=kfold)\n",
    "\n",
    "y_pred_labels = le.inverse_transform(y_prec_cv)\n",
    "y_true_labels = le.inverse_transform(y_encoded)\n",
    "\n",
    "correct = [(true, pred, i) for i, (true, pred) in enumerate(zip(y_true_labels, y_pred_labels)) if true == pred]\n",
    "wrong   = [(true, pred, i) for i, (true, pred) in enumerate(zip(y_true_labels, y_pred_labels)) if true != pred]\n",
    "\n",
    "for c in correct[:5]:\n",
    "    print(f'Index {c[2]}: True - {c[0]}, Predicted - {c[1]}')\n",
    "    print()\n",
    "for w in wrong[:5]:\n",
    "    print(f'Index {w[2]}: True - {w[0]}, Predicted - {w[1]}')\n",
    "    print()"
   ],
   "id": "61cda727fa020a79",
   "outputs": [
    {
     "name": "stdout",
     "output_type": "stream",
     "text": [
      "Index 5: True - Allergy, Predicted - Allergy\n",
      "\n",
      "Index 6: True - Allergy, Predicted - Allergy\n",
      "\n",
      "Index 7: True - Allergy, Predicted - Allergy\n",
      "\n",
      "Index 9: True - Allergy, Predicted - Allergy\n",
      "\n",
      "Index 10: True - GERD, Predicted - GERD\n",
      "\n",
      "Index 0: True - Fungal infection, Predicted - Drug Reaction\n",
      "\n",
      "Index 1: True - Fungal infection, Predicted - Acne\n",
      "\n",
      "Index 2: True - Fungal infection, Predicted - Drug Reaction\n",
      "\n",
      "Index 3: True - Fungal infection, Predicted - Drug Reaction\n",
      "\n",
      "Index 4: True - Fungal infection, Predicted - Drug Reaction\n",
      "\n"
     ]
    }
   ],
   "execution_count": 24
  },
  {
   "metadata": {},
   "cell_type": "markdown",
   "source": [
    "#### Analiza rezultate:\n",
    "In urma incercarii mai multor valori pentru anumiti hiperparametrii (n_estimators = 100..300, learning_rate = 0.01..0.1), consider ca am reusit sa ajung la un model cu o performanta buna si stabila.\n",
    "Valorile pentru metricile folosite sunt apropiate ca valoare (aprox 81% - ceea ce indica stabilitate). Tinand cont de faptul ca sunt 41 de clase, deci prin prezicere aleatorie sansele de succes sunt de aprox 2.4%, o acuratete de 85% este foarte buna."
   ],
   "id": "5d5106d0a0b022b7"
  }
 ],
 "metadata": {
  "kernelspec": {
   "display_name": "Python 3",
   "language": "python",
   "name": "python3"
  },
  "language_info": {
   "codemirror_mode": {
    "name": "ipython",
    "version": 2
   },
   "file_extension": ".py",
   "mimetype": "text/x-python",
   "name": "python",
   "nbconvert_exporter": "python",
   "pygments_lexer": "ipython2",
   "version": "2.7.6"
  }
 },
 "nbformat": 4,
 "nbformat_minor": 5
}
